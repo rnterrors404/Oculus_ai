{
  "nbformat": 4,
  "nbformat_minor": 0,
  "metadata": {
    "colab": {
      "provenance": [],
      "include_colab_link": true
    },
    "kernelspec": {
      "name": "python3",
      "display_name": "Python 3"
    },
    "language_info": {
      "name": "python"
    }
  },
  "cells": [
    {
      "cell_type": "markdown",
      "metadata": {
        "id": "view-in-github",
        "colab_type": "text"
      },
      "source": [
        "<a href=\"https://colab.research.google.com/github/rnterrors404/Oculus_ai/blob/main/Linear_Algebra.ipynb\" target=\"_parent\"><img src=\"https://colab.research.google.com/assets/colab-badge.svg\" alt=\"Open In Colab\"/></a>"
      ]
    },
    {
      "cell_type": "markdown",
      "source": [
        "creating a single dimensional array"
      ],
      "metadata": {
        "id": "csXYG6PRWAjX"
      }
    },
    {
      "cell_type": "code",
      "execution_count": null,
      "metadata": {
        "colab": {
          "base_uri": "https://localhost:8080/"
        },
        "id": "DluhlYw4Me6f",
        "outputId": "f352d1e0-a8fb-45f6-afe2-ef969daf4cd2"
      },
      "outputs": [
        {
          "output_type": "stream",
          "name": "stdout",
          "text": [
            "a =  [7, 8, 6, 2]\n"
          ]
        }
      ],
      "source": [
        "a= [7,8,6,2]\n",
        "print(\"a = \", a)"
      ]
    },
    {
      "cell_type": "markdown",
      "source": [
        "creating a two dimensional array"
      ],
      "metadata": {
        "id": "Bf7OGzMXWKK2"
      }
    },
    {
      "cell_type": "code",
      "source": [
        "A= [[3,6,7,9],[3,5,6,-2],[-9,4,1,7]]\n",
        "print(\"A =\", A)"
      ],
      "metadata": {
        "colab": {
          "base_uri": "https://localhost:8080/"
        },
        "id": "aq0m7m2AOtFp",
        "outputId": "cd63634e-7aae-409a-9f5f-3350e630428d"
      },
      "execution_count": null,
      "outputs": [
        {
          "output_type": "stream",
          "name": "stdout",
          "text": [
            "A = [[3, 6, 7, 9], [3, 5, 6, -2], [-9, 4, 1, 7]]\n"
          ]
        }
      ]
    },
    {
      "cell_type": "markdown",
      "source": [
        "creating a two dimensional array\n"
      ],
      "metadata": {
        "id": "Ql3p6--SWNo8"
      }
    },
    {
      "cell_type": "code",
      "source": [
        "import numpy as np\n",
        "\n",
        "a= np.array([[7],[8],[8],[2]])\n",
        "print(\"a =\", a)\n",
        "\n",
        "A=np.array([[3,6,7,9],[3,5,6,-2],[-9,4,1,7]])\n",
        "print(\"A =\", A)"
      ],
      "metadata": {
        "colab": {
          "base_uri": "https://localhost:8080/"
        },
        "id": "0t3dCPcxP5g-",
        "outputId": "10c4f3a4-9d01-4974-f90d-a6891032b684"
      },
      "execution_count": null,
      "outputs": [
        {
          "output_type": "stream",
          "name": "stdout",
          "text": [
            "a = [[7]\n",
            " [8]\n",
            " [8]\n",
            " [2]]\n",
            "A = [[ 3  6  7  9]\n",
            " [ 3  5  6 -2]\n",
            " [-9  4  1  7]]\n"
          ]
        }
      ]
    },
    {
      "cell_type": "markdown",
      "source": [
        "creating array and matrix"
      ],
      "metadata": {
        "id": "o7bt-_MpXnE7"
      }
    },
    {
      "cell_type": "code",
      "source": [
        "import numpy as np \n",
        "a= np.array([[7],[8],[8],[2]])\n",
        "print(\"a =\", a)\n",
        "\n",
        "A=np.matrix([[3,6,7,9],[3,5,6,-2],[-9,4,1,7]])\n",
        "print(\"A =\", A)"
      ],
      "metadata": {
        "colab": {
          "base_uri": "https://localhost:8080/"
        },
        "id": "NFDZMt-qRohk",
        "outputId": "b058833e-64be-40d8-d6d5-5a1fe96dde72"
      },
      "execution_count": null,
      "outputs": [
        {
          "output_type": "stream",
          "name": "stdout",
          "text": [
            "a = [[7]\n",
            " [8]\n",
            " [8]\n",
            " [2]]\n",
            "A = [[ 3  6  7  9]\n",
            " [ 3  5  6 -2]\n",
            " [-9  4  1  7]]\n"
          ]
        }
      ]
    },
    {
      "cell_type": "markdown",
      "source": [
        "creating matrix and doing arithmetic operations"
      ],
      "metadata": {
        "id": "MAMb-Ah3Xpib"
      }
    },
    {
      "cell_type": "code",
      "source": [
        "import numpy as np\n",
        "A = np.matrix([[2, 0], [-9, -6]])\n",
        "B = np.matrix([[0, 2], [4, -7]])\n",
        "C = A + B\n",
        "print(\"A+B =\", C)\n",
        "C = A - B\n",
        "print(\"A-B =\", C)\n",
        "C = A * B\n",
        "print(\"A*B =\", C)"
      ],
      "metadata": {
        "colab": {
          "base_uri": "https://localhost:8080/"
        },
        "id": "hturwUDISsYr",
        "outputId": "3f2e9d6a-52b1-4e3a-e164-30e122e2fa03"
      },
      "execution_count": null,
      "outputs": [
        {
          "output_type": "stream",
          "name": "stdout",
          "text": [
            "A+B = [[  2   2]\n",
            " [ -5 -13]]\n",
            "A-B = [[  2  -2]\n",
            " [-13   1]]\n",
            "A*B = [[  0   4]\n",
            " [-24  24]]\n"
          ]
        }
      ]
    },
    {
      "cell_type": "markdown",
      "source": [
        "doing multiplication in normal way and by using the function and checking the difference"
      ],
      "metadata": {
        "id": "DO9aIkoaXwm7"
      }
    },
    {
      "cell_type": "code",
      "source": [
        "\n",
        "import numpy as np\n",
        "A = np.matrix([[2, 0], [-9, -6]])\n",
        "B = np.matrix([[0, 2], [4, -7]])\n",
        "C= A + B\n",
        "print(\"A+B =\", C)\n",
        "C = A - B\n",
        "\n",
        "print(\"A-B =\", C)\n",
        "C = A * B\n",
        "\n",
        "print(\"A*B =\", C) # Not Working!, only elementwise Multiplication!\n",
        "#Working Alternative 1\n",
        "\n",
        "C = A.dot(B)\n",
        "print(\"A*B =\", C)\n",
        "#Working Alternative 2\n",
        "\n",
        "C = np.dot(A,B)\n",
        "print(\"A*B =\", C)\n",
        "#Working Alternative 3\n",
        "\n",
        "C = np.mat(A) * np.mat(B)\n",
        "print(\"A*B =\", C)\n",
        "#Working Alternative 4\n",
        "\n",
        "C = np.matmul(A,B)\n",
        "print(\"A*B =\", C)"
      ],
      "metadata": {
        "colab": {
          "base_uri": "https://localhost:8080/"
        },
        "id": "nbI2krwTD-I_",
        "outputId": "f8cfd839-2ed8-467c-8661-47e3b1089cab"
      },
      "execution_count": null,
      "outputs": [
        {
          "output_type": "stream",
          "name": "stdout",
          "text": [
            "A+B = [[  2   2]\n",
            " [ -5 -13]]\n",
            "A-B = [[  2  -2]\n",
            " [-13   1]]\n",
            "A*B = [[  0   4]\n",
            " [-24  24]]\n",
            "A*B = [[  0   4]\n",
            " [-24  24]]\n",
            "A*B = [[  0   4]\n",
            " [-24  24]]\n",
            "A*B = [[  0   4]\n",
            " [-24  24]]\n",
            "A*B = [[  0   4]\n",
            " [-24  24]]\n"
          ]
        }
      ]
    },
    {
      "cell_type": "markdown",
      "source": [
        "checking the conditions of multiplication using function"
      ],
      "metadata": {
        "id": "eSfvAVu1YFiD"
      }
    },
    {
      "cell_type": "code",
      "source": [
        "\n",
        "import numpy as np\n",
        "A = np.array([[2, 6, 4], [5, 7, 7],[4, 9, 1]])\n",
        "B = np.array([[2, 4, 4, 5], [5, 6, 8, 9],[8, 9, 1, 4]])\n",
        "C = np.array([[2], [3],[4]])\n",
        "D = np.array([[2, 3, 4]])\n",
        "M = np.matmul(A,B)\n",
        "print(\"M=\", M)\n",
        "\n",
        "#M = np.matmul(B,A) # Not Working!\n",
        "\n",
        "M = np.matmul(A,C)\n",
        "print(\"M=\", M)\n",
        "print(\"M=\", M)\n",
        "\n",
        "M = np.matmul(D,C)\n",
        "print(\"M=\", M)"
      ],
      "metadata": {
        "colab": {
          "base_uri": "https://localhost:8080/"
        },
        "id": "PCW8buTWEP3E",
        "outputId": "4f57aa06-00ee-4d06-841a-9ddcacb396f1"
      },
      "execution_count": null,
      "outputs": [
        {
          "output_type": "stream",
          "name": "stdout",
          "text": [
            "M= [[ 66  80  60  80]\n",
            " [101 125  83 116]\n",
            " [ 61  79  89 105]]\n",
            "M= [[38]\n",
            " [59]\n",
            " [39]]\n",
            "M= [[38]\n",
            " [59]\n",
            " [39]]\n",
            "M= [[29]]\n"
          ]
        }
      ]
    },
    {
      "cell_type": "markdown",
      "source": [
        "creating an array and doing the transpose of it"
      ],
      "metadata": {
        "id": "OGzwYhZHZIzt"
      }
    },
    {
      "cell_type": "code",
      "source": [
        "\n",
        "import numpy as np\n",
        "A = np.array([[2, 4, 8, 3], [6, 9, -2, 1],[7, -8, 12, 13]])\n",
        "print(\"A=\"); print(A)\n",
        "Atr = np.transpose(A)\n",
        "print(\"Transpose of A=\"); print(Atr)\n",
        "B = np.array([[1, 5], [4, 5],[3, 2],[7, 8]])\n",
        "print(\"B=\"); print(B)\n",
        "Btr = np.transpose(B)\n",
        "print(\"Transpose of B=\"); print(Btr)\n",
        "     "
      ],
      "metadata": {
        "colab": {
          "base_uri": "https://localhost:8080/"
        },
        "id": "weEGEJRTE9Ht",
        "outputId": "0f1e8186-1076-4537-c877-9ccb3308481c"
      },
      "execution_count": null,
      "outputs": [
        {
          "output_type": "stream",
          "name": "stdout",
          "text": [
            "A=\n",
            "[[ 2  4  8  3]\n",
            " [ 6  9 -2  1]\n",
            " [ 7 -8 12 13]]\n",
            "Transpose of A=\n",
            "[[ 2  6  7]\n",
            " [ 4  9 -8]\n",
            " [ 8 -2 12]\n",
            " [ 3  1 13]]\n",
            "B=\n",
            "[[1 5]\n",
            " [4 5]\n",
            " [3 2]\n",
            " [7 8]]\n",
            "Transpose of B=\n",
            "[[1 4 3 7]\n",
            " [5 5 2 8]]\n"
          ]
        }
      ]
    },
    {
      "cell_type": "markdown",
      "source": [
        "  creating an array and finding the determinant of it using function "
      ],
      "metadata": {
        "id": "A46LvouHZRl1"
      }
    },
    {
      "cell_type": "code",
      "source": [
        "\n",
        "import numpy as np\n",
        "import numpy.linalg as la\n",
        "A = np.array([[2, 3], [4, 5]])\n",
        "Adet = la.det(A)\n",
        "print(Adet)\n",
        "B = np.array([[-2, 4, 1],[3, 2, -6],[0, 5, -3]])\n",
        "Bdet = la.det(B)\n",
        "print(Bdet)"
      ],
      "metadata": {
        "colab": {
          "base_uri": "https://localhost:8080/"
        },
        "id": "jW4fLkWIFKCP",
        "outputId": "937ca301-42e5-4364-80a5-7df6c30510fe"
      },
      "execution_count": null,
      "outputs": [
        {
          "output_type": "stream",
          "name": "stdout",
          "text": [
            "-2.0\n",
            "3.000000000000001\n"
          ]
        }
      ]
    },
    {
      "cell_type": "markdown",
      "source": [
        "creating an array and finding the inverse of it using function"
      ],
      "metadata": {
        "id": "_IeXE6Jsa5LQ"
      }
    },
    {
      "cell_type": "code",
      "source": [
        "import numpy as np\n",
        "import numpy.linalg as la\n",
        "A = np.array([[2, 3], \n",
        "[4, 5]])\n",
        "Ainv = la.inv(A)\n",
        "print(Adet)\n",
        "B = np.array([[-2, 4, 1],\n",
        "[3, 2, -6],\n",
        "[2, 5, -3]])\n",
        "Binv = la.inv(B)\n",
        "print(Binv)"
      ],
      "metadata": {
        "colab": {
          "base_uri": "https://localhost:8080/"
        },
        "id": "o5efGsxMFy9Y",
        "outputId": "c7ab294b-337a-4898-bf45-8c12902c01aa"
      },
      "execution_count": null,
      "outputs": [
        {
          "output_type": "stream",
          "name": "stdout",
          "text": [
            "-2.0\n",
            "[[-0.48979592 -0.34693878  0.53061224]\n",
            " [ 0.06122449 -0.08163265  0.18367347]\n",
            " [-0.2244898  -0.36734694  0.32653061]]\n"
          ]
        }
      ]
    },
    {
      "cell_type": "markdown",
      "source": [
        "creating an array and finding the eigen value of it using function"
      ],
      "metadata": {
        "id": "j9ewm0WJbFlI"
      }
    },
    {
      "cell_type": "code",
      "source": [
        "\n",
        "import numpy as np\n",
        "import numpy.linalg as la\n",
        "A = np.array([[0, 2], [-3, -4]])\n",
        "Aeig, v = la.eig(A)\n",
        "print(Aeig)\n",
        "     "
      ],
      "metadata": {
        "colab": {
          "base_uri": "https://localhost:8080/"
        },
        "id": "cv3qgK06GAhX",
        "outputId": "cf6e277d-a9da-460a-a183-78e90b921e44"
      },
      "execution_count": null,
      "outputs": [
        {
          "output_type": "stream",
          "name": "stdout",
          "text": [
            "[-2.+1.41421356j -2.-1.41421356j]\n"
          ]
        }
      ]
    },
    {
      "cell_type": "markdown",
      "source": [
        "AB != BA"
      ],
      "metadata": {
        "id": "7PHbUj-HbOsv"
      }
    },
    {
      "cell_type": "code",
      "source": [
        "\n",
        "import numpy as np\n",
        "A = np.array([[1, 0], [-3, -4]])\n",
        "B = np.array([[0, 1], [4, -3]])\n",
        "C = np.array([[1, 1], [2, -6]])\n",
        "print(\"AB Not Equal BA\")\n",
        "L = np.matmul(A,B)\n",
        "print(\"L=\");print(L)\n",
        "R = np.matmul(B,A)\n",
        "print(\"R=\");print(R)\n",
        "print(\"A(BC) = (AB)C\")\n",
        "L = np.matmul(A,np.matmul(B,C))\n",
        "print(\"L=\");print(L)\n",
        "R = np.matmul(np.matmul(A,B),C)\n",
        "print(\"R=\");print(R)"
      ],
      "metadata": {
        "colab": {
          "base_uri": "https://localhost:8080/"
        },
        "id": "cFUVD0fjGGRU",
        "outputId": "ee15e714-6b8f-4e4d-8b9b-f323b35c15f0"
      },
      "execution_count": null,
      "outputs": [
        {
          "output_type": "stream",
          "name": "stdout",
          "text": [
            "AB Not Equal BA\n",
            "L=\n",
            "[[  0   1]\n",
            " [-16   9]]\n",
            "R=\n",
            "[[-3 -4]\n",
            " [13 12]]\n",
            "A(BC) = (AB)C\n",
            "L=\n",
            "[[  2  -6]\n",
            " [  2 -70]]\n",
            "R=\n",
            "[[  2  -6]\n",
            " [  2 -70]]\n"
          ]
        }
      ]
    },
    {
      "cell_type": "markdown",
      "source": [
        "(A+B)C = AC + BC"
      ],
      "metadata": {
        "id": "BK78MAXrbX_Z"
      }
    },
    {
      "cell_type": "code",
      "source": [
        "import numpy as np\n",
        "import numpy.linalg as la\n",
        "A = np.array([[1, 0], [-3, -4]])\n",
        "B = np.array([[0, 1], [4, -3]])\n",
        "C = np.array([[1, 1], [2, -6]])\n",
        "print(\"(A+B)C = AC + BC\")\n",
        "L = np.matmul(A+B,C)\n",
        "print(\"L=\");print(L)\n",
        "R = np.matmul(A,C) + np.matmul(B,C)\n",
        "print(\"R=\");print(R)\n",
        "print(\"AA^(-1) = A^(-1)A = I\")\n",
        "L = np.matmul(A, la.inv(A))\n",
        "print(\"L=\");print(L)\n",
        "R = np.matmul(la.inv(A),A)\n",
        "print(\"R=\");print(R)"
      ],
      "metadata": {
        "colab": {
          "base_uri": "https://localhost:8080/"
        },
        "id": "oIFD2dAwGRFQ",
        "outputId": "7940dabc-9b7c-4033-c206-2814ed69e63a"
      },
      "execution_count": null,
      "outputs": [
        {
          "output_type": "stream",
          "name": "stdout",
          "text": [
            "(A+B)C = AC + BC\n",
            "L=\n",
            "[[  3  -5]\n",
            " [-13  43]]\n",
            "R=\n",
            "[[  3  -5]\n",
            " [-13  43]]\n",
            "AA^(-1) = A^(-1)A = I\n",
            "L=\n",
            "[[1. 0.]\n",
            " [0. 1.]]\n",
            "R=\n",
            "[[1. 0.]\n",
            " [0. 1.]]\n"
          ]
        }
      ]
    },
    {
      "cell_type": "markdown",
      "source": [
        "creating an array doing an inverse of it and then doing the multiplication of the matix using the function"
      ],
      "metadata": {
        "id": "KDELvLmOb56F"
      }
    },
    {
      "cell_type": "code",
      "source": [
        "\n",
        "import numpy as np\n",
        "import numpy.linalg as la\n",
        "A = np.array([[2, 3], [4, 5]])\n",
        "b = np.array([[5], [7]])\n",
        "Ainv = la.inv(A)\n",
        "x = Ainv.dot(b)\n",
        "print(x)"
      ],
      "metadata": {
        "colab": {
          "base_uri": "https://localhost:8080/"
        },
        "id": "5oR-WWDYGX0Z",
        "outputId": "575cf45e-cd43-4851-d2d2-08c21faa6517"
      },
      "execution_count": null,
      "outputs": [
        {
          "output_type": "stream",
          "name": "stdout",
          "text": [
            "[[-2.]\n",
            " [ 3.]]\n"
          ]
        }
      ]
    },
    {
      "cell_type": "markdown",
      "source": [
        "doing the same thing using the built-in function"
      ],
      "metadata": {
        "id": "NkNfRmLHc9WY"
      }
    },
    {
      "cell_type": "code",
      "source": [
        "\n",
        "import numpy as np\n",
        "A = np.array([[2, 3], [4, 5]])\n",
        "b = np.array([[5], [7]])\n",
        "x = np.linalg.solve(A, b)\n",
        "print(x)\n",
        "     "
      ],
      "metadata": {
        "colab": {
          "base_uri": "https://localhost:8080/"
        },
        "id": "rdYaNUXvGe_z",
        "outputId": "ccbb735c-de83-4634-9440-38cd58e9fb59"
      },
      "execution_count": null,
      "outputs": [
        {
          "output_type": "stream",
          "name": "stdout",
          "text": [
            "[[-2.]\n",
            " [ 3.]]\n"
          ]
        }
      ]
    },
    {
      "cell_type": "markdown",
      "source": [
        "using the least square method "
      ],
      "metadata": {
        "id": "7HCDNSPqdl9o"
      }
    },
    {
      "cell_type": "code",
      "source": [
        "\n",
        "import numpy as np\n",
        "A = np.array([[2, 3], [4, 5],[8, 9]])\n",
        "b = np.array([[6],[7],[0]])\n",
        "x = np.linalg.lstsq(A, b, rcond=None)[0]\n",
        "print(x)"
      ],
      "metadata": {
        "colab": {
          "base_uri": "https://localhost:8080/"
        },
        "id": "gg5dWYp5Gm7O",
        "outputId": "34d7efa8-226e-49c2-f91d-ed7637e26235"
      },
      "execution_count": null,
      "outputs": [
        {
          "output_type": "stream",
          "name": "stdout",
          "text": [
            "[[-10.60714286]\n",
            " [  9.5       ]]\n"
          ]
        }
      ]
    },
    {
      "cell_type": "code",
      "source": [],
      "metadata": {
        "id": "cuke2YN9fZFZ"
      },
      "execution_count": null,
      "outputs": []
    }
  ]
}